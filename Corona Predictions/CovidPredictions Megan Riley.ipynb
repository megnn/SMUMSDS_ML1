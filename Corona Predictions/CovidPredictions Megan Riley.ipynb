{
 "cells": [
  {
   "cell_type": "markdown",
   "metadata": {},
   "source": [
    "## Texas Covid19 Predictions - July 7th - August 8th\n",
    "\n",
    "Megan Riley\n"
   ]
  },
  {
   "cell_type": "code",
   "execution_count": null,
   "metadata": {},
   "outputs": [
    {
     "name": "stderr",
     "output_type": "stream",
     "text": [
      "also installing the dependencies ‘fracdiff’, ‘lmtest’, ‘urca’, ‘RcppArmadillo’\n",
      "\n"
     ]
    }
   ],
   "source": [
    "install.packages(\"forecast\")\n",
    "install.packages(\"tswge\")\n",
    "\n"
   ]
  },
  {
   "cell_type": "code",
   "execution_count": 4,
   "metadata": {},
   "outputs": [
    {
     "name": "stderr",
     "output_type": "stream",
     "text": [
      "Registered S3 method overwritten by 'xts':\n",
      "  method     from\n",
      "  as.zoo.xts zoo \n",
      "Registered S3 method overwritten by 'quantmod':\n",
      "  method            from\n",
      "  as.zoo.data.frame zoo \n"
     ]
    },
    {
     "ename": "ERROR",
     "evalue": "Error in library(forecast): there is no package called ‘forecast’\n",
     "output_type": "error",
     "traceback": [
      "Error in library(forecast): there is no package called ‘forecast’\nTraceback:\n",
      "1. library(forecast)"
     ]
    }
   ],
   "source": [
    "remove(list = ls())\n",
    "library(tidyverse)\n",
    "library(dplyr)\n",
    "library(tseries)\n",
    "library(forecast)\n",
    "library(tswge)\n"
   ]
  },
  {
   "cell_type": "code",
   "execution_count": 3,
   "metadata": {},
   "outputs": [
    {
     "data": {
      "text/html": [
       "<ol class=list-inline>\n",
       "\t<li>'State'</li>\n",
       "\t<li>'Date'</li>\n",
       "\t<li>'Daily_New_Cases'</li>\n",
       "\t<li>'Curve_Day'</li>\n",
       "\t<li>'Pop_Pct'</li>\n",
       "\t<li>'Pop_Pct_M1'</li>\n",
       "\t<li>'Pop_Pct_M2'</li>\n",
       "\t<li>'Pop_Pct_M3'</li>\n",
       "\t<li>'Pop_Pct_M4'</li>\n",
       "\t<li>'Pop_Pct_M5'</li>\n",
       "\t<li>'Pop_Pct_M6'</li>\n",
       "\t<li>'Pop_Pct_M7'</li>\n",
       "\t<li>'Three_Day_Avg_Pop_Pct'</li>\n",
       "\t<li>'Seven_Day_Avg_Pop_Pct'</li>\n",
       "\t<li>'Pct_Change'</li>\n",
       "\t<li>'Pct_Change_M1'</li>\n",
       "\t<li>'Pct_Change_M2'</li>\n",
       "\t<li>'Pct_Change_M3'</li>\n",
       "\t<li>'Pct_Change_M4'</li>\n",
       "\t<li>'Pct_Change_M5'</li>\n",
       "\t<li>'Pct_Change_M6'</li>\n",
       "\t<li>'Pct_Change_M7'</li>\n",
       "\t<li>'Three_Day_Avg_Pct_Chg'</li>\n",
       "\t<li>'Seven_Day_Avg_Pct_Chg'</li>\n",
       "</ol>\n"
      ],
      "text/latex": [
       "\\begin{enumerate*}\n",
       "\\item 'State'\n",
       "\\item 'Date'\n",
       "\\item 'Daily\\_New\\_Cases'\n",
       "\\item 'Curve\\_Day'\n",
       "\\item 'Pop\\_Pct'\n",
       "\\item 'Pop\\_Pct\\_M1'\n",
       "\\item 'Pop\\_Pct\\_M2'\n",
       "\\item 'Pop\\_Pct\\_M3'\n",
       "\\item 'Pop\\_Pct\\_M4'\n",
       "\\item 'Pop\\_Pct\\_M5'\n",
       "\\item 'Pop\\_Pct\\_M6'\n",
       "\\item 'Pop\\_Pct\\_M7'\n",
       "\\item 'Three\\_Day\\_Avg\\_Pop\\_Pct'\n",
       "\\item 'Seven\\_Day\\_Avg\\_Pop\\_Pct'\n",
       "\\item 'Pct\\_Change'\n",
       "\\item 'Pct\\_Change\\_M1'\n",
       "\\item 'Pct\\_Change\\_M2'\n",
       "\\item 'Pct\\_Change\\_M3'\n",
       "\\item 'Pct\\_Change\\_M4'\n",
       "\\item 'Pct\\_Change\\_M5'\n",
       "\\item 'Pct\\_Change\\_M6'\n",
       "\\item 'Pct\\_Change\\_M7'\n",
       "\\item 'Three\\_Day\\_Avg\\_Pct\\_Chg'\n",
       "\\item 'Seven\\_Day\\_Avg\\_Pct\\_Chg'\n",
       "\\end{enumerate*}\n"
      ],
      "text/markdown": [
       "1. 'State'\n",
       "2. 'Date'\n",
       "3. 'Daily_New_Cases'\n",
       "4. 'Curve_Day'\n",
       "5. 'Pop_Pct'\n",
       "6. 'Pop_Pct_M1'\n",
       "7. 'Pop_Pct_M2'\n",
       "8. 'Pop_Pct_M3'\n",
       "9. 'Pop_Pct_M4'\n",
       "10. 'Pop_Pct_M5'\n",
       "11. 'Pop_Pct_M6'\n",
       "12. 'Pop_Pct_M7'\n",
       "13. 'Three_Day_Avg_Pop_Pct'\n",
       "14. 'Seven_Day_Avg_Pop_Pct'\n",
       "15. 'Pct_Change'\n",
       "16. 'Pct_Change_M1'\n",
       "17. 'Pct_Change_M2'\n",
       "18. 'Pct_Change_M3'\n",
       "19. 'Pct_Change_M4'\n",
       "20. 'Pct_Change_M5'\n",
       "21. 'Pct_Change_M6'\n",
       "22. 'Pct_Change_M7'\n",
       "23. 'Three_Day_Avg_Pct_Chg'\n",
       "24. 'Seven_Day_Avg_Pct_Chg'\n",
       "\n",
       "\n"
      ],
      "text/plain": [
       " [1] \"State\"                 \"Date\"                  \"Daily_New_Cases\"      \n",
       " [4] \"Curve_Day\"             \"Pop_Pct\"               \"Pop_Pct_M1\"           \n",
       " [7] \"Pop_Pct_M2\"            \"Pop_Pct_M3\"            \"Pop_Pct_M4\"           \n",
       "[10] \"Pop_Pct_M5\"            \"Pop_Pct_M6\"            \"Pop_Pct_M7\"           \n",
       "[13] \"Three_Day_Avg_Pop_Pct\" \"Seven_Day_Avg_Pop_Pct\" \"Pct_Change\"           \n",
       "[16] \"Pct_Change_M1\"         \"Pct_Change_M2\"         \"Pct_Change_M3\"        \n",
       "[19] \"Pct_Change_M4\"         \"Pct_Change_M5\"         \"Pct_Change_M6\"        \n",
       "[22] \"Pct_Change_M7\"         \"Three_Day_Avg_Pct_Chg\" \"Seven_Day_Avg_Pct_Chg\""
      ]
     },
     "metadata": {},
     "output_type": "display_data"
    }
   ],
   "source": [
    "#Loading the test and original data\n",
    "\n",
    "corona_df = read.csv(\"\")\n",
    "print(\"Columns in Training:\")\n",
    "names(corona_df)\n",
    "\n",
    "test_df = read.csv(\"\")\n",
    "print(\"Dimensions to predict\")\n",
    "dim(test_df)\n",
    "print(\"Columns to predict:\")\n",
    "names(test_df)"
   ]
  },
  {
   "cell_type": "code",
   "execution_count": null,
   "metadata": {},
   "outputs": [],
   "source": [
    "texas_corona = corona_df %>% filter(State == \"TX\")\n",
    "dim(texas_corona)"
   ]
  }
 ],
 "metadata": {
  "kernelspec": {
   "display_name": "R",
   "language": "R",
   "name": "ir"
  },
  "language_info": {
   "codemirror_mode": "r",
   "file_extension": ".r",
   "mimetype": "text/x-r-source",
   "name": "R",
   "pygments_lexer": "r",
   "version": "3.6.1"
  }
 },
 "nbformat": 4,
 "nbformat_minor": 4
}
